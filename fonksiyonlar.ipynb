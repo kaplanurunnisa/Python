{
  "nbformat": 4,
  "nbformat_minor": 0,
  "metadata": {
    "colab": {
      "provenance": []
    },
    "kernelspec": {
      "name": "python3",
      "display_name": "Python 3"
    },
    "language_info": {
      "name": "python"
    }
  },
  "cells": [
    {
      "cell_type": "code",
      "execution_count": 1,
      "metadata": {
        "id": "4Fj4FDMuCe8g"
      },
      "outputs": [],
      "source": [
        "def isim_Yazdir():\n",
        "  print(\"Zungzwange\")"
      ]
    },
    {
      "cell_type": "code",
      "source": [
        "isim_Yazdir()"
      ],
      "metadata": {
        "colab": {
          "base_uri": "https://localhost:8080/"
        },
        "id": "29aFNY32C-4j",
        "outputId": "41e5b6e5-88f3-42b3-a4d0-342e06a5412f"
      },
      "execution_count": 3,
      "outputs": [
        {
          "output_type": "stream",
          "name": "stdout",
          "text": [
            "Zungzwange\n"
          ]
        }
      ]
    },
    {
      "cell_type": "code",
      "source": [
        "#Argumanlar ve parametreler\n",
        "\n",
        "def isimler(isim,soyad): #parametreler\n",
        "  print(isim+ ' '+soyad)"
      ],
      "metadata": {
        "id": "oEOAI45-DEmD"
      },
      "execution_count": 4,
      "outputs": []
    },
    {
      "cell_type": "code",
      "source": [
        "isimler('Nur', 'kk') #argumanlar"
      ],
      "metadata": {
        "colab": {
          "base_uri": "https://localhost:8080/"
        },
        "id": "D62ZAROmDgCs",
        "outputId": "fad9f100-07e5-4e2d-fdf8-3d0cece7ede8"
      },
      "execution_count": 5,
      "outputs": [
        {
          "output_type": "stream",
          "name": "stdout",
          "text": [
            "Nur kk\n"
          ]
        }
      ]
    },
    {
      "cell_type": "code",
      "source": [
        "def toplam(x):\n",
        "  print(x)"
      ],
      "metadata": {
        "id": "84F7GBCyDm0I"
      },
      "execution_count": 6,
      "outputs": []
    },
    {
      "cell_type": "code",
      "source": [
        "def toplam(y):\n",
        "  y+=1\n",
        "  return y"
      ],
      "metadata": {
        "id": "46_u9e0qDxwA"
      },
      "execution_count": 8,
      "outputs": []
    },
    {
      "cell_type": "code",
      "source": [
        "print(toplam(4))"
      ],
      "metadata": {
        "colab": {
          "base_uri": "https://localhost:8080/"
        },
        "id": "Usu7jP1ZESQS",
        "outputId": "584c065b-8f42-44dd-9856-2c9477d52f66"
      },
      "execution_count": 9,
      "outputs": [
        {
          "output_type": "stream",
          "name": "stdout",
          "text": [
            "5\n"
          ]
        }
      ]
    },
    {
      "cell_type": "code",
      "source": [
        "def carpma(sayi1, sayi2):\n",
        "  return sayi1*sayi2"
      ],
      "metadata": {
        "id": "NTzzcCx_EdjX"
      },
      "execution_count": 10,
      "outputs": []
    },
    {
      "cell_type": "code",
      "source": [
        "carpma(5,2)"
      ],
      "metadata": {
        "colab": {
          "base_uri": "https://localhost:8080/"
        },
        "id": "H6X0ojscElk5",
        "outputId": "ae62eebf-0846-48f0-ab11-54e9fb0786ef"
      },
      "execution_count": 11,
      "outputs": [
        {
          "output_type": "execute_result",
          "data": {
            "text/plain": [
              "10"
            ]
          },
          "metadata": {},
          "execution_count": 11
        }
      ]
    },
    {
      "cell_type": "code",
      "source": [
        "def toplam(rakam1):\n",
        "  def icerdeki(rakam2):\n",
        "    return rakam1+rakam2\n",
        "  return icerdeki"
      ],
      "metadata": {
        "id": "1Ex1zPyPEouy"
      },
      "execution_count": 13,
      "outputs": []
    },
    {
      "cell_type": "code",
      "source": [
        "ekle_10 = toplam(10)"
      ],
      "metadata": {
        "id": "dZZwqcvkE0I8"
      },
      "execution_count": 15,
      "outputs": []
    },
    {
      "cell_type": "code",
      "source": [
        "ekle_10(5)"
      ],
      "metadata": {
        "colab": {
          "base_uri": "https://localhost:8080/"
        },
        "id": "m6CDzE4dFHX3",
        "outputId": "d42ff7ce-19c4-4f00-b9bf-6361af46648a"
      },
      "execution_count": 16,
      "outputs": [
        {
          "output_type": "execute_result",
          "data": {
            "text/plain": [
              "15"
            ]
          },
          "metadata": {},
          "execution_count": 16
        }
      ]
    },
    {
      "cell_type": "code",
      "source": [
        "def fonk(x,y):\n",
        "  toplama = x+y\n",
        "  carpma = x*y\n",
        "\n",
        "  return (toplama, carpma)\n",
        "  "
      ],
      "metadata": {
        "id": "AtK0MiioFOJO"
      },
      "execution_count": 17,
      "outputs": []
    },
    {
      "cell_type": "code",
      "source": [
        "i = fonk(5,3)\n",
        "print(i)"
      ],
      "metadata": {
        "colab": {
          "base_uri": "https://localhost:8080/"
        },
        "id": "hlQlgHVsFnY0",
        "outputId": "6475df1c-6fae-43c0-d58a-1d3e96ce0139"
      },
      "execution_count": 18,
      "outputs": [
        {
          "output_type": "stream",
          "name": "stdout",
          "text": [
            "(8, 15)\n"
          ]
        }
      ]
    },
    {
      "cell_type": "code",
      "source": [
        "i,j = fonk(5,3)\n",
        "print(i)\n",
        "print(j)"
      ],
      "metadata": {
        "colab": {
          "base_uri": "https://localhost:8080/"
        },
        "id": "yN7c678cFt8U",
        "outputId": "d4893155-8a41-436a-d706-8c141a994465"
      },
      "execution_count": 19,
      "outputs": [
        {
          "output_type": "stream",
          "name": "stdout",
          "text": [
            "8\n",
            "15\n"
          ]
        }
      ]
    },
    {
      "cell_type": "code",
      "source": [
        "def fonk2(x):\n",
        "  if x>0:\n",
        "    return 'Positive'\n",
        "  elif x<0:\n",
        "    return 'Negative'\n",
        "  else:\n",
        "    return 'Sifir'"
      ],
      "metadata": {
        "id": "cLbtgBkrF0n8"
      },
      "execution_count": 20,
      "outputs": []
    },
    {
      "cell_type": "code",
      "source": [
        "fonk2 (0)"
      ],
      "metadata": {
        "colab": {
          "base_uri": "https://localhost:8080/",
          "height": 35
        },
        "id": "9ca-JcvEGEpb",
        "outputId": "aaea7923-13b4-4eba-e079-cef8818b6c6e"
      },
      "execution_count": 21,
      "outputs": [
        {
          "output_type": "execute_result",
          "data": {
            "text/plain": [
              "'Sifir'"
            ],
            "application/vnd.google.colaboratory.intrinsic+json": {
              "type": "string"
            }
          },
          "metadata": {},
          "execution_count": 21
        }
      ]
    },
    {
      "cell_type": "code",
      "source": [
        "# faktoriyel hesaplama\n",
        "\n",
        "#0! = 1\n",
        "#1! = 1\n",
        "#5! = 5*4*3*2*1\n",
        "\n",
        "def faktoriyel(x):\n",
        "  fakt = 1\n",
        "  if (x==0 or x==1):\n",
        "    print(f'Faktoriyel Degeri: {fakt}')\n",
        "  else:\n",
        "    while x>1:\n",
        "      fakt = fakt * x\n",
        "      x -= 1\n",
        "    print(f'Faktoriyel Degeri: {fakt}')\n"
      ],
      "metadata": {
        "id": "RV81g5jDHYG6"
      },
      "execution_count": 22,
      "outputs": []
    },
    {
      "cell_type": "code",
      "source": [
        "faktoriyel(5)"
      ],
      "metadata": {
        "colab": {
          "base_uri": "https://localhost:8080/"
        },
        "id": "oiETXu5yIc0b",
        "outputId": "8bffbfea-2556-411f-d9b8-0bcb0f84397d"
      },
      "execution_count": 23,
      "outputs": [
        {
          "output_type": "stream",
          "name": "stdout",
          "text": [
            "Faktoriyel Degeri: 120\n"
          ]
        }
      ]
    },
    {
      "cell_type": "code",
      "source": [
        "# scope\n",
        "\n",
        "num = 1 #global\n",
        "\n",
        "def kafa_karistirici():\n",
        "  num = 10\n",
        "  return num\n"
      ],
      "metadata": {
        "id": "5n1709rcIim9"
      },
      "execution_count": 26,
      "outputs": []
    },
    {
      "cell_type": "code",
      "source": [
        "print(num)\n",
        "kafa_karistirici()"
      ],
      "metadata": {
        "colab": {
          "base_uri": "https://localhost:8080/"
        },
        "id": "uow94h9TI0c8",
        "outputId": "652d280f-dde2-4049-c07e-10efdc00b6fc"
      },
      "execution_count": 27,
      "outputs": [
        {
          "output_type": "stream",
          "name": "stdout",
          "text": [
            "1\n"
          ]
        },
        {
          "output_type": "execute_result",
          "data": {
            "text/plain": [
              "10"
            ]
          },
          "metadata": {},
          "execution_count": 27
        }
      ]
    },
    {
      "cell_type": "code",
      "source": [
        "# lamda fonksiyonları\n",
        "\n",
        "(lambda x: x+1)(2)"
      ],
      "metadata": {
        "colab": {
          "base_uri": "https://localhost:8080/"
        },
        "id": "6OycPmGJJA3f",
        "outputId": "3d8cd03f-b73b-4115-bbbd-d80953865ca2"
      },
      "execution_count": 28,
      "outputs": [
        {
          "output_type": "execute_result",
          "data": {
            "text/plain": [
              "3"
            ]
          },
          "metadata": {},
          "execution_count": 28
        }
      ]
    },
    {
      "cell_type": "code",
      "source": [
        "toplama = lambda x: x+5"
      ],
      "metadata": {
        "id": "zMlUK8i2JLgw"
      },
      "execution_count": 29,
      "outputs": []
    },
    {
      "cell_type": "code",
      "source": [
        "toplama(6)"
      ],
      "metadata": {
        "colab": {
          "base_uri": "https://localhost:8080/"
        },
        "id": "TIhdIYUrJShd",
        "outputId": "7182172a-0ecb-4051-8e52-9616cdd3fd77"
      },
      "execution_count": 30,
      "outputs": [
        {
          "output_type": "execute_result",
          "data": {
            "text/plain": [
              "11"
            ]
          },
          "metadata": {},
          "execution_count": 30
        }
      ]
    },
    {
      "cell_type": "code",
      "source": [
        "# Moduller\n",
        "\n",
        "kelimeler = ['yapay', 'zeka','makina','ogrenmesi', 'derin', 'ogrenme']\n",
        "\n",
        "import random as rnd\n",
        "\n",
        "def randomkelimeler(*kelime): # (*) istediğiniz kadar arguman girebilmeniz için\n",
        "  index = rnd.randint(0, len(kelime)-1)\n",
        "  return kelime[index]\n"
      ],
      "metadata": {
        "id": "IryNP1WdJWTw"
      },
      "execution_count": 41,
      "outputs": []
    },
    {
      "cell_type": "code",
      "source": [
        "randomkelimeler(kelime)"
      ],
      "metadata": {
        "colab": {
          "base_uri": "https://localhost:8080/"
        },
        "id": "oOVUbEtnKY-z",
        "outputId": "b9c180d4-fa66-431b-defc-acb19ff07c65"
      },
      "execution_count": 42,
      "outputs": [
        {
          "output_type": "execute_result",
          "data": {
            "text/plain": [
              "['yapay', 'zeka', 'makina', 'ogrenmesi', 'derin', 'ogrenme']"
            ]
          },
          "metadata": {},
          "execution_count": 42
        }
      ]
    },
    {
      "cell_type": "code",
      "source": [
        "randomkelimeler('kelimeler', 'nur', 'yapay', 'zeka')"
      ],
      "metadata": {
        "colab": {
          "base_uri": "https://localhost:8080/",
          "height": 35
        },
        "id": "50OJecdZKpzE",
        "outputId": "5eb2c1e7-6cb4-4166-f22b-352eeb99a3a2"
      },
      "execution_count": 44,
      "outputs": [
        {
          "output_type": "execute_result",
          "data": {
            "text/plain": [
              "'kelimeler'"
            ],
            "application/vnd.google.colaboratory.intrinsic+json": {
              "type": "string"
            }
          },
          "metadata": {},
          "execution_count": 44
        }
      ]
    },
    {
      "cell_type": "code",
      "source": [
        "# Metotlar\n",
        "\n",
        "s = input('Isim giriniz')\n",
        "print(s.upper()) #.upper bir metot\n",
        "ğ\n",
        "\n"
      ],
      "metadata": {
        "colab": {
          "base_uri": "https://localhost:8080/"
        },
        "id": "VomdB0pFLOTR",
        "outputId": "b7fade08-0cc2-4990-d5bc-5d301785d0e1"
      },
      "execution_count": 45,
      "outputs": [
        {
          "output_type": "stream",
          "name": "stdout",
          "text": [
            "Isim giriniznur\n",
            "NUR\n"
          ]
        }
      ]
    },
    {
      "cell_type": "code",
      "source": [
        "# Exceptions\n",
        "\n",
        "print ('Yazılımcı Hatası')\n",
        "\n"
      ],
      "metadata": {
        "colab": {
          "base_uri": "https://localhost:8080/"
        },
        "id": "PIdUN2CxL8GG",
        "outputId": "befb7b19-efeb-497f-aba9-1f1fc965468d"
      },
      "execution_count": 47,
      "outputs": [
        {
          "output_type": "stream",
          "name": "stdout",
          "text": [
            "Yazılımcı Hatası\n"
          ]
        }
      ]
    },
    {
      "cell_type": "code",
      "source": [
        "# ZeroDivisionError\n",
        "\n",
        "num1 = int(input('sayi giriniz: '))\n",
        "num2 = int(input('sayi giriniz: '))\n",
        "print(num1/num2)"
      ],
      "metadata": {
        "colab": {
          "base_uri": "https://localhost:8080/",
          "height": 235
        },
        "id": "kY90uqugMK37",
        "outputId": "5db8cfce-06cc-4261-fae3-d4c0bced594d"
      },
      "execution_count": 51,
      "outputs": [
        {
          "name": "stdout",
          "output_type": "stream",
          "text": [
            "sayi giriniz: 7\n",
            "sayi giriniz: 0\n"
          ]
        },
        {
          "output_type": "error",
          "ename": "ZeroDivisionError",
          "evalue": "ignored",
          "traceback": [
            "\u001b[0;31m---------------------------------------------------------------------------\u001b[0m",
            "\u001b[0;31mZeroDivisionError\u001b[0m                         Traceback (most recent call last)",
            "\u001b[0;32m<ipython-input-51-be9264c263f1>\u001b[0m in \u001b[0;36m<cell line: 5>\u001b[0;34m()\u001b[0m\n\u001b[1;32m      3\u001b[0m \u001b[0mnum1\u001b[0m \u001b[0;34m=\u001b[0m \u001b[0mint\u001b[0m\u001b[0;34m(\u001b[0m\u001b[0minput\u001b[0m\u001b[0;34m(\u001b[0m\u001b[0;34m'sayi giriniz: '\u001b[0m\u001b[0;34m)\u001b[0m\u001b[0;34m)\u001b[0m\u001b[0;34m\u001b[0m\u001b[0;34m\u001b[0m\u001b[0m\n\u001b[1;32m      4\u001b[0m \u001b[0mnum2\u001b[0m \u001b[0;34m=\u001b[0m \u001b[0mint\u001b[0m\u001b[0;34m(\u001b[0m\u001b[0minput\u001b[0m\u001b[0;34m(\u001b[0m\u001b[0;34m'sayi giriniz: '\u001b[0m\u001b[0;34m)\u001b[0m\u001b[0;34m)\u001b[0m\u001b[0;34m\u001b[0m\u001b[0;34m\u001b[0m\u001b[0m\n\u001b[0;32m----> 5\u001b[0;31m \u001b[0mprint\u001b[0m\u001b[0;34m(\u001b[0m\u001b[0mnum1\u001b[0m\u001b[0;34m/\u001b[0m\u001b[0mnum2\u001b[0m\u001b[0;34m)\u001b[0m\u001b[0;34m\u001b[0m\u001b[0;34m\u001b[0m\u001b[0m\n\u001b[0m",
            "\u001b[0;31mZeroDivisionError\u001b[0m: division by zero"
          ]
        }
      ]
    },
    {
      "cell_type": "code",
      "source": [
        "x = 'Yakup'\n",
        "\n",
        "int (x)"
      ],
      "metadata": {
        "colab": {
          "base_uri": "https://localhost:8080/",
          "height": 201
        },
        "id": "dpuW95xMM1tk",
        "outputId": "96f1adb9-f90b-43b3-cd33-67d57683525e"
      },
      "execution_count": 52,
      "outputs": [
        {
          "output_type": "error",
          "ename": "ValueError",
          "evalue": "ignored",
          "traceback": [
            "\u001b[0;31m---------------------------------------------------------------------------\u001b[0m",
            "\u001b[0;31mValueError\u001b[0m                                Traceback (most recent call last)",
            "\u001b[0;32m<ipython-input-52-53ed60fcc80a>\u001b[0m in \u001b[0;36m<cell line: 3>\u001b[0;34m()\u001b[0m\n\u001b[1;32m      1\u001b[0m \u001b[0mx\u001b[0m \u001b[0;34m=\u001b[0m \u001b[0;34m'Yakup'\u001b[0m\u001b[0;34m\u001b[0m\u001b[0;34m\u001b[0m\u001b[0m\n\u001b[1;32m      2\u001b[0m \u001b[0;34m\u001b[0m\u001b[0m\n\u001b[0;32m----> 3\u001b[0;31m \u001b[0mint\u001b[0m \u001b[0;34m(\u001b[0m\u001b[0mx\u001b[0m\u001b[0;34m)\u001b[0m\u001b[0;34m\u001b[0m\u001b[0;34m\u001b[0m\u001b[0m\n\u001b[0m",
            "\u001b[0;31mValueError\u001b[0m: invalid literal for int() with base 10: 'Yakup'"
          ]
        }
      ]
    },
    {
      "cell_type": "code",
      "source": [
        "x = 'Nola'\n",
        "\n",
        "try:\n",
        "  int(x)\n",
        "except ValueError:\n",
        "  print('Lutfen Sayi Giriniz')\n",
        "  "
      ],
      "metadata": {
        "colab": {
          "base_uri": "https://localhost:8080/"
        },
        "id": "ybZhN34LM_VK",
        "outputId": "71319ea8-d40b-47fe-add5-48260997a078"
      },
      "execution_count": 53,
      "outputs": [
        {
          "output_type": "stream",
          "name": "stdout",
          "text": [
            "Lutfen Sayi Giriniz\n"
          ]
        }
      ]
    },
    {
      "cell_type": "code",
      "source": [
        "while True:\n",
        "  sayi1 = input(' Birinci sayiyi giriniz')\n",
        "\n",
        "  if sayi1 == 'q':\n",
        "    break\n",
        "  sayi2 = input('İkinci sayiyi giriniz')\n",
        "\n",
        "  try:\n",
        "    sayi1_int = int(sayi1)\n",
        "    sayi2_int = int(sayi2)\n",
        "\n",
        "    print(sayi1_int/sayi2_int)\n",
        "\n",
        "  except (ValueError, ZeroDivisionError):\n",
        "    print('Hata aldınız')\n",
        "    print('Tekrar Deneyiniz')"
      ],
      "metadata": {
        "colab": {
          "base_uri": "https://localhost:8080/"
        },
        "id": "if2IAYxvNRrF",
        "outputId": "6ee4e150-010e-4c7e-8ef3-0c628a46bce6"
      },
      "execution_count": 54,
      "outputs": [
        {
          "name": "stdout",
          "output_type": "stream",
          "text": [
            " Birinci sayiyi giriniz2\n",
            "İkinci sayiyi girinize\n",
            "Hata aldınız\n",
            "Tekrar Deneyiniz\n",
            " Birinci sayiyi giriniz3\n",
            "İkinci sayiyi giriniz0\n",
            "Hata aldınız\n",
            "Tekrar Deneyiniz\n",
            " Birinci sayiyi girinizq\n"
          ]
        }
      ]
    },
    {
      "cell_type": "code",
      "source": [
        "#Proje\n",
        "\n",
        "import random as rnd\n",
        "\n",
        "rehber = {}\n",
        "\n",
        "def kisi_ekle(isim, numara):\n",
        "  global rehber\n",
        "\n",
        "  if not isim in rehber.keys():\n",
        "    rehber[isim] = numara\n",
        "    print('Yeni kisiyi eklediniz')\n",
        "  else:\n",
        "    print('Bu kisi mevcut')\n",
        "    \n",
        "def kisi_sil(isim):\n",
        "  global rehber\n",
        "  try: \n",
        "    del rehber[isim]\n",
        "    print('Kisi silindi')\n",
        "  except KeyError:\n",
        "    print('Kisi bulunamadı')\n",
        "  \n",
        "def rastgele_kisi_sec():\n",
        "  isim = rnd.choice(list(rehber.keys()))\n",
        "  return (isim, rehber[isim])"
      ],
      "metadata": {
        "id": "FtbKtiN_OUo5"
      },
      "execution_count": 58,
      "outputs": []
    },
    {
      "cell_type": "code",
      "source": [
        "kisi_ekle('Falrod', 123456)\n",
        "kisi_ekle('Ekrem', 3264489)\n",
        "kisi_ekle('Ceyda', 7239074)\n"
      ],
      "metadata": {
        "colab": {
          "base_uri": "https://localhost:8080/"
        },
        "id": "2lqasamVTFmq",
        "outputId": "bc32ae32-a0fb-4dcb-ef40-d58329f00a06"
      },
      "execution_count": 60,
      "outputs": [
        {
          "output_type": "stream",
          "name": "stdout",
          "text": [
            "Bu kisi mevcut\n",
            "Yeni kisiyi eklediniz\n",
            "Yeni kisiyi eklediniz\n"
          ]
        }
      ]
    },
    {
      "cell_type": "code",
      "source": [
        "rehber"
      ],
      "metadata": {
        "colab": {
          "base_uri": "https://localhost:8080/"
        },
        "id": "lkWs0iA5TtVA",
        "outputId": "1f670dc3-d282-41f0-8f24-7892ccd0b2b3"
      },
      "execution_count": 61,
      "outputs": [
        {
          "output_type": "execute_result",
          "data": {
            "text/plain": [
              "{'Falrod': 123456,\n",
              " 'ekrem': 3264489,\n",
              " 'ceyda': 7239074,\n",
              " 'Ekrem': 3264489,\n",
              " 'Ceyda': 7239074}"
            ]
          },
          "metadata": {},
          "execution_count": 61
        }
      ]
    },
    {
      "cell_type": "code",
      "source": [
        "rastgele_kisi_sec()"
      ],
      "metadata": {
        "colab": {
          "base_uri": "https://localhost:8080/"
        },
        "id": "KPEOzZ_TT0ES",
        "outputId": "47057ef8-15b7-40f3-f7e0-7ae7ce6447c6"
      },
      "execution_count": 62,
      "outputs": [
        {
          "output_type": "execute_result",
          "data": {
            "text/plain": [
              "('ceyda', 7239074)"
            ]
          },
          "metadata": {},
          "execution_count": 62
        }
      ]
    },
    {
      "cell_type": "code",
      "source": [
        "kisi_sil('ceyda')\n"
      ],
      "metadata": {
        "colab": {
          "base_uri": "https://localhost:8080/"
        },
        "id": "vusteD3bT1nS",
        "outputId": "104671f2-317e-4ea0-d811-2b139c2f90d0"
      },
      "execution_count": 63,
      "outputs": [
        {
          "output_type": "stream",
          "name": "stdout",
          "text": [
            "Kisi silindi\n"
          ]
        }
      ]
    },
    {
      "cell_type": "code",
      "source": [
        "rehber"
      ],
      "metadata": {
        "colab": {
          "base_uri": "https://localhost:8080/"
        },
        "id": "WRIoYGmVT_G1",
        "outputId": "311f9c22-a3a2-4175-8700-e064125a87c8"
      },
      "execution_count": 64,
      "outputs": [
        {
          "output_type": "execute_result",
          "data": {
            "text/plain": [
              "{'Falrod': 123456, 'ekrem': 3264489, 'Ekrem': 3264489, 'Ceyda': 7239074}"
            ]
          },
          "metadata": {},
          "execution_count": 64
        }
      ]
    },
    {
      "cell_type": "code",
      "source": [
        "kisi_sil('ekrem')"
      ],
      "metadata": {
        "colab": {
          "base_uri": "https://localhost:8080/"
        },
        "id": "tuajXSaaUB3t",
        "outputId": "a1e43880-226b-449b-f7b7-dff8f46cb4ed"
      },
      "execution_count": 65,
      "outputs": [
        {
          "output_type": "stream",
          "name": "stdout",
          "text": [
            "Kisi silindi\n"
          ]
        }
      ]
    },
    {
      "cell_type": "code",
      "source": [
        "rehber\n"
      ],
      "metadata": {
        "colab": {
          "base_uri": "https://localhost:8080/"
        },
        "id": "H5sgYrS_UFfv",
        "outputId": "e55a5549-d46e-4321-990f-b53f86563696"
      },
      "execution_count": 66,
      "outputs": [
        {
          "output_type": "execute_result",
          "data": {
            "text/plain": [
              "{'Falrod': 123456, 'Ekrem': 3264489, 'Ceyda': 7239074}"
            ]
          },
          "metadata": {},
          "execution_count": 66
        }
      ]
    }
  ]
}